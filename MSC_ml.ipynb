{
  "nbformat": 4,
  "nbformat_minor": 0,
  "metadata": {
    "colab": {
      "provenance": [],
      "authorship_tag": "ABX9TyMgCRg9sAr+crYEUkNHaoh1",
      "include_colab_link": true
    },
    "kernelspec": {
      "name": "python3",
      "display_name": "Python 3"
    },
    "language_info": {
      "name": "python"
    }
  },
  "cells": [
    {
      "cell_type": "markdown",
      "metadata": {
        "id": "view-in-github",
        "colab_type": "text"
      },
      "source": [
        "<a href=\"https://colab.research.google.com/github/ErenB02/Proteomics_Project/blob/main/MSC_ml.ipynb\" target=\"_parent\"><img src=\"https://colab.research.google.com/assets/colab-badge.svg\" alt=\"Open In Colab\"/></a>"
      ]
    },
    {
      "cell_type": "code",
      "source": [
        "##Libraries\n",
        "import pandas as pd\n",
        "\n",
        "\n",
        "import matplotlib as plt\n"
      ],
      "metadata": {
        "id": "4Og_8woAJ47T"
      },
      "execution_count": null,
      "outputs": []
    },
    {
      "cell_type": "markdown",
      "source": [
        "### **Import datasets**\n"
      ],
      "metadata": {
        "id": "ki0g-d2WIWwa"
      }
    },
    {
      "cell_type": "code",
      "execution_count": null,
      "metadata": {
        "id": "7_mvFuB7C_F3"
      },
      "outputs": [],
      "source": [
        "\"\"\"MSc Project 2025\n",
        "   Eren Boybay\n",
        "   01/08/2025\"\"\"\n",
        "\n",
        "\n",
        "##BASELINE (cord blood)\n",
        "#Full set of proteins\n",
        "\n",
        "#Full set of peptides\n",
        "\n",
        "#Proteins + Clinical (combined)\n",
        "\n",
        "#Peptides + Clinical (combined)\n",
        "\n",
        "\n",
        "##PiRAMiD (serum)\n",
        "#Full set of proteins\n",
        "\n",
        "#Full set of peptides\n",
        "\n",
        "#Proteins + Clinical (combined)\n",
        "\n",
        "#Peptides + Clinical (combined)"
      ]
    },
    {
      "cell_type": "markdown",
      "source": [
        "### **Pre-processing & Feature Selection**"
      ],
      "metadata": {
        "id": "ap9v_uPrIlFC"
      }
    },
    {
      "cell_type": "markdown",
      "source": [
        "*Features and Target*"
      ],
      "metadata": {
        "id": "h7QIzJwiJBkq"
      }
    },
    {
      "cell_type": "markdown",
      "source": [
        "*Label Encoding*"
      ],
      "metadata": {
        "id": "Bwj7TfHdI917"
      }
    },
    {
      "cell_type": "code",
      "source": [
        "###Model Training###\n",
        "\n",
        "from sklearn.linear_model import LogisticRegression\n",
        "from sklearn.ensemble import RandomForestClassifier\n"
      ],
      "metadata": {
        "id": "bfEmPBrRIG4d"
      },
      "execution_count": null,
      "outputs": []
    },
    {
      "cell_type": "code",
      "source": [
        "###"
      ],
      "metadata": {
        "id": "yZlnDUqHIUwy"
      },
      "execution_count": null,
      "outputs": []
    }
  ]
}