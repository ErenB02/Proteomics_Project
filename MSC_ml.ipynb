{
  "nbformat": 4,
  "nbformat_minor": 0,
  "metadata": {
    "colab": {
      "provenance": [],
      "authorship_tag": "ABX9TyM4J6oqWvNNqLHMa0WAf38A",
      "include_colab_link": true
    },
    "kernelspec": {
      "name": "python3",
      "display_name": "Python 3"
    },
    "language_info": {
      "name": "python"
    }
  },
  "cells": [
    {
      "cell_type": "markdown",
      "metadata": {
        "id": "view-in-github",
        "colab_type": "text"
      },
      "source": [
        "<a href=\"https://colab.research.google.com/github/ErenB02/Proteomics_Project/blob/main/MSC_ml.ipynb\" target=\"_parent\"><img src=\"https://colab.research.google.com/assets/colab-badge.svg\" alt=\"Open In Colab\"/></a>"
      ]
    },
    {
      "cell_type": "code",
      "source": [
        "##Libraries\n",
        "from sklearn import model_selection\n",
        "from sklearn.pipeline import Pipeline\n",
        "import pandas as pd\n",
        "import numpy as np\n"
      ],
      "metadata": {
        "id": "4Og_8woAJ47T"
      },
      "execution_count": null,
      "outputs": []
    },
    {
      "cell_type": "markdown",
      "source": [
        "# **Cord Blood Analysis Models**\n"
      ],
      "metadata": {
        "id": "EKxvCId1YdVu"
      }
    },
    {
      "cell_type": "markdown",
      "source": [
        "### **Import datasets**\n"
      ],
      "metadata": {
        "id": "ki0g-d2WIWwa"
      }
    },
    {
      "cell_type": "code",
      "execution_count": null,
      "metadata": {
        "id": "7_mvFuB7C_F3"
      },
      "outputs": [],
      "source": [
        "\"\"\"MSc Project 2025\n",
        "   Eren Boybay\n",
        "   01/08/2025\"\"\"\n",
        "\n",
        "##BASELINE (cord blood)\n",
        "#Full set of proteins\n",
        "BL_prot = pd.read_csv(\"BL_prot_full.csv\")\n",
        "\n",
        "# #Full set of peptides\n",
        "# BL_pep_full = pd.read_csv(url)\n",
        "BL_pep = pd.read_csv(\"BL_pep_full.csv\")\n",
        "\n",
        "\n",
        "# #Proteins + Clinical (combined)\n",
        "BL_prot_comb = pd.read_csv(\"BL_prot_comb.csv\")\n",
        "\n",
        "\n",
        "# #Peptides + Clinical (combined)\n",
        "BL_pep_comb = pd.read_csv(\"BL_pep_comb.csv\")\n",
        "\n",
        "\n",
        "\n",
        "# #Peptides (sig only)\n",
        "# BL_pep_sig = pd.read_csv(url)\n",
        "\n",
        "\n",
        "# #Peptides + Clinical (sig + clinical)\n",
        "# BL_pep_sig_comb = pd.read_csv(url)\n"
      ]
    },
    {
      "cell_type": "code",
      "source": [
        "# #Check column classes and format\n",
        "print(BL_prot.value_counts('Condition'))\n",
        "print(BL_prot.iloc[0:5, 0:5])\n",
        "\n",
        "#Remove BioReplicate Column as it isnt needed\n",
        "print(BL_prot.shape)\n",
        "del BL_prot['BioReplicate']\n",
        "print(BL_prot.shape)"
      ],
      "metadata": {
        "colab": {
          "base_uri": "https://localhost:8080/"
        },
        "id": "vIk7hZte5eox",
        "outputId": "ae8116b7-72b4-4992-bbe1-6c29ad19c0f3"
      },
      "execution_count": null,
      "outputs": [
        {
          "output_type": "stream",
          "name": "stdout",
          "text": [
            "Condition\n",
            "Control    42\n",
            "Case       22\n",
            "Name: count, dtype: int64\n",
            "       KLKB1       HEP2       A2MG        IC1       A2AP\n",
            "0  23.726412  23.995709  23.184520  22.173751  22.113733\n",
            "1  24.327342  23.748462  24.511435  23.598822  23.028244\n",
            "2  24.783129  24.488957  24.415013  24.568131  25.042863\n",
            "3  23.847265  24.124445  24.272973  23.822803  23.993504\n",
            "4  24.368995  23.986996  24.373690  23.814763  23.623496\n",
            "(64, 38)\n",
            "(64, 37)\n"
          ]
        }
      ]
    },
    {
      "cell_type": "code",
      "source": [
        "# #Check column classes and format (peptide)\n",
        "print(BL_pep.value_counts('Condition'))\n",
        "print(BL_pep.iloc[0:5, 0:5])\n",
        "\n",
        "#Remove BioReplicate Column as it isnt needed\n",
        "print(BL_pep.shape)\n",
        "del BL_pep['BioReplicate']\n",
        "print(BL_pep.shape)"
      ],
      "metadata": {
        "colab": {
          "base_uri": "https://localhost:8080/"
        },
        "id": "s7DHRrm15coS",
        "outputId": "0a35bed1-7279-4fb7-cb45-75b1d3c76aaf"
      },
      "execution_count": null,
      "outputs": [
        {
          "output_type": "stream",
          "name": "stdout",
          "text": [
            "Condition\n",
            "Control    42\n",
            "Case       22\n",
            "Name: count, dtype: int64\n",
            "   BioReplicate  GGDVASMYTPNAQYCQMR  TGAVSGHSLK  QCGHQISACHR  VSSVEECQK\n",
            "0             1           13.292609   13.060020    13.927130  11.903882\n",
            "1             2           14.851895   14.655922    15.227240  14.703525\n",
            "2             3           15.444724   13.627306    14.437362  11.945444\n",
            "3             4           14.411643   14.575835    11.869979  15.891048\n",
            "4             5           15.286774   14.721847    12.899735  16.821662\n",
            "(64, 1090)\n",
            "(64, 1089)\n"
          ]
        }
      ]
    },
    {
      "cell_type": "markdown",
      "source": [
        "### **Pre-processing & Feature Selection**"
      ],
      "metadata": {
        "id": "ap9v_uPrIlFC"
      }
    },
    {
      "cell_type": "code",
      "source": [
        "#Remove trailing space (found in 'Case ')\n",
        "BL_prot['Condition'] = BL_prot['Condition'].str.strip()\n",
        "#Convert cat variables to numerical ones (Case = 1, Control  0)\n",
        "BL_prot.replace({'Condition': {'Control': 0, 'Case': 1}}, inplace=True)\n",
        "\n",
        "\n",
        "#Repeat for peptide\n",
        "BL_pep['Condition'] = BL_pep['Condition'].str.strip()\n",
        "#Convert cat variables to numerical ones (Case = 1, Control  0)\n",
        "BL_pep.replace({'Condition': {'Control': 0, 'Case': 1}}, inplace=True)\n"
      ],
      "metadata": {
        "id": "kEL3c9GqQJt9",
        "colab": {
          "base_uri": "https://localhost:8080/"
        },
        "outputId": "364cadee-377a-4bca-9570-e8a7ffac4be3"
      },
      "execution_count": null,
      "outputs": [
        {
          "output_type": "stream",
          "name": "stderr",
          "text": [
            "/tmp/ipython-input-1099701665.py:4: FutureWarning: Downcasting behavior in `replace` is deprecated and will be removed in a future version. To retain the old behavior, explicitly call `result.infer_objects(copy=False)`. To opt-in to the future behavior, set `pd.set_option('future.no_silent_downcasting', True)`\n",
            "  BL_prot.replace({'Condition': {'Control': 0, 'Case': 1}}, inplace=True)\n",
            "/tmp/ipython-input-1099701665.py:10: FutureWarning: Downcasting behavior in `replace` is deprecated and will be removed in a future version. To retain the old behavior, explicitly call `result.infer_objects(copy=False)`. To opt-in to the future behavior, set `pd.set_option('future.no_silent_downcasting', True)`\n",
            "  BL_pep.replace({'Condition': {'Control': 0, 'Case': 1}}, inplace=True)\n"
          ]
        }
      ]
    },
    {
      "cell_type": "markdown",
      "source": [
        "*Features and Target*"
      ],
      "metadata": {
        "id": "h7QIzJwiJBkq"
      }
    },
    {
      "cell_type": "code",
      "source": [
        "#Features (all proteins)\n",
        "X_prot =  BL_prot.iloc[:,:36]\n",
        "#Label (Case - Control (object))\n",
        "y_prot = BL_prot['Condition']\n",
        "print(X_prot.shape)\n",
        "print(y_prot.shape)\n",
        "\n",
        "\n",
        "#Features (all peptides)\n",
        "X_pep =  BL_pep.iloc[:,:1088]\n",
        "y_pep = BL_pep['Condition']\n",
        "print(X_pep.shape)\n",
        "print(y_pep.shape)"
      ],
      "metadata": {
        "id": "seepAQD_YYO1",
        "colab": {
          "base_uri": "https://localhost:8080/"
        },
        "outputId": "5a4cc639-7bdb-40a2-bbdb-c589f19834bf"
      },
      "execution_count": null,
      "outputs": [
        {
          "output_type": "stream",
          "name": "stdout",
          "text": [
            "(64, 36)\n",
            "(64,)\n",
            "(64, 1088)\n",
            "(64,)\n"
          ]
        }
      ]
    },
    {
      "cell_type": "code",
      "source": [
        "#Check for NaN values\n",
        "print(f\"There are {X_prot.isna().sum().sum()} NaN values present in the peptide features\")\n",
        "print(f\"There are {X_pep.isna().sum().sum()} NaN values present in the peptide features\")\n",
        "\n",
        "X_pep = X_pep.fillna(0)\n"
      ],
      "metadata": {
        "colab": {
          "base_uri": "https://localhost:8080/"
        },
        "id": "ZAhh7_wsaD4I",
        "outputId": "7625e6d2-1f57-446b-bc79-8dfd79a7c066"
      },
      "execution_count": null,
      "outputs": [
        {
          "output_type": "stream",
          "name": "stdout",
          "text": [
            "There are 0 NaN values present in the peptide features\n",
            "There are 2 NaN values present in the peptide features\n"
          ]
        }
      ]
    },
    {
      "cell_type": "markdown",
      "source": [
        "### **Model Training and Testing**\n",
        "\n"
      ],
      "metadata": {
        "id": "QXLM-cikJ4lH"
      }
    },
    {
      "cell_type": "code",
      "source": [
        "##Logistic Regression Classifier\n",
        "from sklearn.linear_model import LogisticRegression\n",
        "from sklearn.preprocessing import StandardScaler\n",
        "from sklearn.model_selection import StratifiedKFold\n",
        "from sklearn.model_selection import cross_val_score\n",
        "\n",
        "lrc = LogisticRegression(penalty=\"l1\", solver=\"liblinear\", random_state=25)\n",
        "\n",
        "#5 fold cross validation (gather model scores)\n",
        "lr_prot_roc = cross_val_score(lrc, X_prot, y_prot, cv=5, scoring='roc_auc')\n",
        "lr_pep_roc = cross_val_score(lrc, X_pep, y_pep, cv=5, scoring='roc_auc')\n",
        "\n",
        "\n",
        "print(f\"ROC-AUC scores in protein data: {lr_prot_roc}\")\n",
        "print(f\"Average ROC-AUC scores for protein data: {np.mean(lr_prot_roc):.2f}\")\n",
        "\n",
        "print(f\"ROC-AUC scores in peptide data: {lr_pep_roc}\")\n",
        "print(f\"Average ROC-AUC scores for peptide data: {np.mean(lr_pep_roc):.3f}\")\n",
        "\n"
      ],
      "metadata": {
        "id": "bfEmPBrRIG4d",
        "colab": {
          "base_uri": "https://localhost:8080/"
        },
        "outputId": "17d78299-b5a3-48e5-d1ca-48c4288c30fb"
      },
      "execution_count": null,
      "outputs": [
        {
          "output_type": "stream",
          "name": "stdout",
          "text": [
            "ROC-AUC scores in protein data: [0.41666667 0.38888889 0.6        0.6        0.46875   ]\n",
            "Average ROC-AUC scores for protein data: 0.49\n",
            "ROC-AUC scores in peptide data: [0.80555556 0.52777778 0.625      0.775      0.5625    ]\n",
            "Average ROC-AUC scores for peptide data: 0.659\n"
          ]
        }
      ]
    },
    {
      "cell_type": "code",
      "source": [
        "#Random Forest Classifier\n",
        "from sklearn.ensemble import RandomForestClassifier\n",
        "\n",
        "\n",
        "rfc = RandomForestClassifier(criterion=\"gini\", random_state=25)\n",
        "\n",
        "#5 fold cross validation\n",
        "rf_prot_roc = cross_val_score(rfc, X_prot, y_prot, cv=5, scoring='roc_auc')\n",
        "rf_pep_roc = cross_val_score(rfc, X_pep, y_pep, cv=5, scoring='roc_auc')\n",
        "\n",
        "\n",
        "print(f\"ROC-AUC scores in protein data: {rf_prot_roc}\")\n",
        "print(f\"Average ROC-AUC scores for protein data: {np.mean(rf_prot_roc):.2f}\")\n",
        "\n",
        "print(f\"ROC-AUC scores in peptide data: {rf_pep_roc}\")\n",
        "print(f\"Average ROC-AUC scores for peptide data: {np.mean(rf_pep_roc):.3f}\")"
      ],
      "metadata": {
        "id": "PjYLZfzi0O84",
        "colab": {
          "base_uri": "https://localhost:8080/"
        },
        "outputId": "6ecbae0c-24fe-47d7-d2f8-f2af32c759b5"
      },
      "execution_count": null,
      "outputs": [
        {
          "output_type": "stream",
          "name": "stdout",
          "text": [
            "ROC-AUC scores in protein data: [0.31944444 0.13888889 0.8625     0.65       0.515625  ]\n",
            "Average ROC-AUC scores for protein data: 0.50\n",
            "ROC-AUC scores in peptide data: [0.56944444 0.15277778 0.725      0.6875     0.703125  ]\n",
            "Average ROC-AUC scores for peptide data: 0.568\n"
          ]
        }
      ]
    },
    {
      "cell_type": "markdown",
      "source": [
        "**Plotting ROC_AUC results**"
      ],
      "metadata": {
        "id": "1pngJ0SJQyRg"
      }
    },
    {
      "cell_type": "code",
      "source": [
        "rf_prot_roc.fit(X_pep, y_pep)"
      ],
      "metadata": {
        "colab": {
          "base_uri": "https://localhost:8080/",
          "height": 141
        },
        "id": "KJjgzaT0M0cY",
        "outputId": "603f2c6c-03af-4060-bfe9-1bbb6389b1a0"
      },
      "execution_count": null,
      "outputs": [
        {
          "output_type": "error",
          "ename": "AttributeError",
          "evalue": "'numpy.ndarray' object has no attribute 'fit'",
          "traceback": [
            "\u001b[0;31m---------------------------------------------------------------------------\u001b[0m",
            "\u001b[0;31mAttributeError\u001b[0m                            Traceback (most recent call last)",
            "\u001b[0;32m/tmp/ipython-input-443153952.py\u001b[0m in \u001b[0;36m<cell line: 0>\u001b[0;34m()\u001b[0m\n\u001b[0;32m----> 1\u001b[0;31m \u001b[0mrf_prot_roc\u001b[0m\u001b[0;34m.\u001b[0m\u001b[0mfit\u001b[0m\u001b[0;34m(\u001b[0m\u001b[0mX_pep\u001b[0m\u001b[0;34m,\u001b[0m \u001b[0my_pep\u001b[0m\u001b[0;34m)\u001b[0m\u001b[0;34m\u001b[0m\u001b[0;34m\u001b[0m\u001b[0m\n\u001b[0m",
            "\u001b[0;31mAttributeError\u001b[0m: 'numpy.ndarray' object has no attribute 'fit'"
          ]
        }
      ]
    },
    {
      "cell_type": "markdown",
      "source": [
        "**Feature Importance**"
      ],
      "metadata": {
        "id": "on5ei211M04w"
      }
    },
    {
      "cell_type": "code",
      "source": [],
      "metadata": {
        "id": "x61vvwlyMzrX"
      },
      "execution_count": null,
      "outputs": []
    },
    {
      "cell_type": "markdown",
      "source": [
        "##**Combined Data**"
      ],
      "metadata": {
        "id": "ezj4JVJe8Vkr"
      }
    },
    {
      "cell_type": "code",
      "source": [
        "# #Check column classes and format\n",
        "print(BL_prot.value_counts('Condition'))\n",
        "print(BL_prot.iloc[0:5, 0:5])\n",
        "\n",
        "#Remove BioReplicate Column as it isnt needed\n",
        "print(BL_prot.shape)\n",
        "del BL_prot['BioReplicate']\n",
        "print(BL_prot.shape)"
      ],
      "metadata": {
        "id": "mSeO92UQ8heg"
      },
      "execution_count": null,
      "outputs": []
    },
    {
      "cell_type": "code",
      "source": [
        "# #Check column classes and format (peptide)\n",
        "print(BL_pep.value_counts('Condition'))\n",
        "print(BL_pep.iloc[0:5, 0:5])\n",
        "\n",
        "#Remove BioReplicate Column as it isnt needed\n",
        "print(BL_pep.shape)\n",
        "del BL_pep['BioReplicate']\n",
        "print(BL_pep.shape)"
      ],
      "metadata": {
        "id": "dJk6kvA88lQH"
      },
      "execution_count": null,
      "outputs": []
    },
    {
      "cell_type": "code",
      "source": [
        "#Remove trailing space (found in 'Case ')\n",
        "BL_prot['Condition'] = BL_prot['Condition'].str.strip()\n",
        "#Convert cat variables to numerical ones (Case = 1, Control  0)\n",
        "BL_prot.replace({'Condition': {'Control': 0, 'Case': 1}}, inplace=True)\n",
        "\n",
        "\n",
        "#Repeat for peptide\n",
        "BL_pep['Condition'] = BL_pep['Condition'].str.strip()\n",
        "#Convert cat variables to numerical ones (Case = 1, Control  0)\n",
        "BL_pep.replace({'Condition': {'Control': 0, 'Case': 1}}, inplace=True)"
      ],
      "metadata": {
        "id": "S7cC7ECO8m8l"
      },
      "execution_count": null,
      "outputs": []
    },
    {
      "cell_type": "code",
      "source": [
        "#Features (all proteins)\n",
        "X_prot =  BL_prot.iloc[:,:36]\n",
        "#Label (Case - Control (object))\n",
        "y_prot = BL_prot['Condition']\n",
        "print(X_prot.shape)\n",
        "print(y_prot.shape)\n",
        "\n",
        "\n",
        "#Features (all peptides)\n",
        "X_pep =  BL_pep.iloc[:,:1088]\n",
        "y_pep = BL_pep['Condition']\n",
        "print(X_pep.shape)\n",
        "print(y_pep.shape)"
      ],
      "metadata": {
        "id": "BSivY7Kx8qWn"
      },
      "execution_count": null,
      "outputs": []
    },
    {
      "cell_type": "code",
      "source": [
        "#Check for NaN values\n",
        "print(f\"There are {X_prot.isna().sum().sum()} NaN values present in the peptide features\")\n",
        "print(f\"There are {X_pep.isna().sum().sum()} NaN values present in the peptide features\")\n",
        "\n",
        "X_pep = X_pep.fillna(0)\n"
      ],
      "metadata": {
        "id": "gooLWtaa8r0b"
      },
      "execution_count": null,
      "outputs": []
    },
    {
      "cell_type": "markdown",
      "source": [
        "# **Serum Analysis Models**"
      ],
      "metadata": {
        "id": "ynLKTgc2YkgV"
      }
    },
    {
      "cell_type": "code",
      "source": [
        "##PiRAMiD (serum)\n",
        "#Full set of proteins\n",
        "PM_prot_full = pd.read_csv(url)\n",
        "\n",
        "#Full set of peptides\n",
        "PM_pep_full = pd.read_csv(url)\n",
        "\n",
        "#Proteins + Clinical (combined)\n",
        "PM_prot_comb = pd.read_csv(url)\n",
        "#Peptides + Clinical (combined)\n",
        "PM_pep_comb = pd.read_csv(url)\n",
        "\n",
        "\n",
        "# #Peptides (sig only)\n",
        "# PM_pep_sig = pd.read_csv(url)\n",
        "\n",
        "\n",
        "# #Peptides + Clinical (sig + clinical)\n",
        "# PM_pep_sig_comb = pd.read_csv(url)"
      ],
      "metadata": {
        "id": "YF0tusYmYnLl",
        "colab": {
          "base_uri": "https://localhost:8080/",
          "height": 211
        },
        "outputId": "3e948ea3-88c5-4af1-b15f-ef08f425c9de"
      },
      "execution_count": null,
      "outputs": [
        {
          "output_type": "error",
          "ename": "NameError",
          "evalue": "name 'url' is not defined",
          "traceback": [
            "\u001b[0;31m---------------------------------------------------------------------------\u001b[0m",
            "\u001b[0;31mNameError\u001b[0m                                 Traceback (most recent call last)",
            "\u001b[0;32m/tmp/ipython-input-1804100323.py\u001b[0m in \u001b[0;36m<cell line: 0>\u001b[0;34m()\u001b[0m\n\u001b[1;32m      1\u001b[0m \u001b[0;31m##PiRAMiD (serum)\u001b[0m\u001b[0;34m\u001b[0m\u001b[0;34m\u001b[0m\u001b[0m\n\u001b[1;32m      2\u001b[0m \u001b[0;31m#Full set of proteins\u001b[0m\u001b[0;34m\u001b[0m\u001b[0;34m\u001b[0m\u001b[0m\n\u001b[0;32m----> 3\u001b[0;31m \u001b[0mPM_prot_full\u001b[0m \u001b[0;34m=\u001b[0m \u001b[0mpd\u001b[0m\u001b[0;34m.\u001b[0m\u001b[0mread_csv\u001b[0m\u001b[0;34m(\u001b[0m\u001b[0murl\u001b[0m\u001b[0;34m)\u001b[0m\u001b[0;34m\u001b[0m\u001b[0;34m\u001b[0m\u001b[0m\n\u001b[0m\u001b[1;32m      4\u001b[0m \u001b[0;34m\u001b[0m\u001b[0m\n\u001b[1;32m      5\u001b[0m \u001b[0;31m#Full set of peptides\u001b[0m\u001b[0;34m\u001b[0m\u001b[0;34m\u001b[0m\u001b[0m\n",
            "\u001b[0;31mNameError\u001b[0m: name 'url' is not defined"
          ]
        }
      ]
    }
  ]
}