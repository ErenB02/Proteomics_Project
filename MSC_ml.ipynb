{
  "nbformat": 4,
  "nbformat_minor": 0,
  "metadata": {
    "colab": {
      "provenance": [],
      "authorship_tag": "ABX9TyMZOq2U8br9SHqeZszw3qNZ",
      "include_colab_link": true
    },
    "kernelspec": {
      "name": "python3",
      "display_name": "Python 3"
    },
    "language_info": {
      "name": "python"
    }
  },
  "cells": [
    {
      "cell_type": "markdown",
      "metadata": {
        "id": "view-in-github",
        "colab_type": "text"
      },
      "source": [
        "<a href=\"https://colab.research.google.com/github/ErenB02/Proteomics_Project/blob/main/MSC_ml.ipynb\" target=\"_parent\"><img src=\"https://colab.research.google.com/assets/colab-badge.svg\" alt=\"Open In Colab\"/></a>"
      ]
    },
    {
      "cell_type": "code",
      "source": [
        "##Libraries\n",
        "from sklearn import model_selection\n",
        "from sklearn.pipeline import Pipeline\n"
      ],
      "metadata": {
        "id": "4Og_8woAJ47T"
      },
      "execution_count": null,
      "outputs": []
    },
    {
      "cell_type": "markdown",
      "source": [
        "# **Cord Blood Analysis Models**\n"
      ],
      "metadata": {
        "id": "EKxvCId1YdVu"
      }
    },
    {
      "cell_type": "markdown",
      "source": [
        "### **Import datasets**\n"
      ],
      "metadata": {
        "id": "ki0g-d2WIWwa"
      }
    },
    {
      "cell_type": "code",
      "execution_count": null,
      "metadata": {
        "id": "7_mvFuB7C_F3"
      },
      "outputs": [],
      "source": [
        "\"\"\"MSc Project 2025\n",
        "   Eren Boybay\n",
        "   01/08/2025\"\"\"\n",
        "\n",
        "import pandas as pd\n",
        "\n",
        "##BASELINE (cord blood)\n",
        "#Full set of proteins\n",
        "BL_prot_full = pd.read_csv(url)\n",
        "\n",
        "#Full set of peptides\n",
        "BL_pep_full = pd.read_csv(url)\n",
        "\n",
        "#Proteins + Clinical (combined)\n",
        "BL_prot_comb = pd.read_csv(url)\n",
        "#Peptides + Clinical (combined)\n",
        "BL_pep_comb = pd.read_csv(url)\n",
        "\n",
        "\n",
        "#Check column classes and format if needed\n"
      ]
    },
    {
      "cell_type": "markdown",
      "source": [
        "### **Pre-processing & Feature Selection**"
      ],
      "metadata": {
        "id": "ap9v_uPrIlFC"
      }
    },
    {
      "cell_type": "markdown",
      "source": [
        "*Features and Target*"
      ],
      "metadata": {
        "id": "h7QIzJwiJBkq"
      }
    },
    {
      "cell_type": "code",
      "source": [
        "#Features"
      ],
      "metadata": {
        "id": "seepAQD_YYO1"
      },
      "execution_count": null,
      "outputs": []
    },
    {
      "cell_type": "markdown",
      "source": [
        "*Label Encoding*"
      ],
      "metadata": {
        "id": "Bwj7TfHdI917"
      }
    },
    {
      "cell_type": "code",
      "source": [
        "from sklearn.preprocessing import LabelEncoder"
      ],
      "metadata": {
        "id": "kEL3c9GqQJt9"
      },
      "execution_count": null,
      "outputs": []
    },
    {
      "cell_type": "markdown",
      "source": [
        "*Scaling*"
      ],
      "metadata": {
        "id": "pks1PyK1RBbt"
      }
    },
    {
      "cell_type": "code",
      "source": [],
      "metadata": {
        "id": "nS2Paz_-RC6s"
      },
      "execution_count": null,
      "outputs": []
    },
    {
      "cell_type": "code",
      "source": [
        "###Model Training###\n",
        "from sklearn.linear_model import LogisticRegression\n",
        "from sklearn.ensemble import RandomForestClassifier\n",
        "\n",
        "\"\"\"Logistic Regression\"\"\"\n",
        "\n",
        "lr_param_grid = {'penalty' : [\"l1\"],\n",
        "                 'solver' : ['solver']}\n",
        "grid_search = GridSearchCV(LogisticRegression(), lr_param_grid, cv = 5, random_state = 25)\n",
        "\n",
        "\"\"\"Random Forest\"\"\"\n",
        "\n",
        "\n"
      ],
      "metadata": {
        "id": "bfEmPBrRIG4d"
      },
      "execution_count": null,
      "outputs": []
    },
    {
      "cell_type": "code",
      "source": [
        "###"
      ],
      "metadata": {
        "id": "yZlnDUqHIUwy"
      },
      "execution_count": null,
      "outputs": []
    },
    {
      "cell_type": "markdown",
      "source": [
        "*Plotting results*"
      ],
      "metadata": {
        "id": "1pngJ0SJQyRg"
      }
    },
    {
      "cell_type": "code",
      "source": [
        "import matplotlib.pyplot as plt\n"
      ],
      "metadata": {
        "id": "678dIBS7Q1_U"
      },
      "execution_count": null,
      "outputs": []
    },
    {
      "cell_type": "markdown",
      "source": [
        "# **Serum Analysis Models**"
      ],
      "metadata": {
        "id": "ynLKTgc2YkgV"
      }
    },
    {
      "cell_type": "code",
      "source": [
        "##PiRAMiD (serum)\n",
        "#Full set of proteins\n",
        "PM_prot_full = pd.read_csv(url)\n",
        "\n",
        "#Full set of peptides\n",
        "PM_pep_full = pd.read_csv(url)\n",
        "\n",
        "#Proteins + Clinical (combined)\n",
        "PM_prot_comb = pd.read_csv(url)\n",
        "#Peptides + Clinical (combined)\n",
        "PM_pep_comb = pd.read_csv(url)\n"
      ],
      "metadata": {
        "id": "YF0tusYmYnLl"
      },
      "execution_count": null,
      "outputs": []
    }
  ]
}